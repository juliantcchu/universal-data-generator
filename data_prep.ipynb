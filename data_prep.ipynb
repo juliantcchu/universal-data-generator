{
 "cells": [
  {
   "cell_type": "code",
   "execution_count": null,
   "metadata": {},
   "outputs": [],
   "source": [
    "import pandas as pd"
   ]
  },
  {
   "cell_type": "markdown",
   "metadata": {},
   "source": [
    "X:\n",
    "This dataset is XXXX. The data is in the csv format:\n",
    "\n",
    "column1, column2, column3, column\n",
    "\n",
    "Y: \n",
    "\n",
    "val1, val2, val3, val4\n",
    "\n",
    "val1, val2, val3, val4\n",
    "\n",
    "val1, val2, val3, val4\n",
    "\n",
    "val1, val2, val3, val4\n",
    "\n",
    "val1, val2, val3, val4\n",
    "\n",
    "val1, val2, val3, val4\n",
    "\n",
    "Note:\n",
    "Some X also has previously generated data in it\n"
   ]
  },
  {
   "cell_type": "code",
   "execution_count": 10,
   "metadata": {},
   "outputs": [],
   "source": [
    "\n",
    "def gen_data(data_description, csv_filename, output_filename, max_length = 1000):\n",
    "\n",
    "    # getting data files\n",
    "    csv_data = open(csv_filename, 'r').read().split('\\n')\n",
    "    output_file = open(output_filename, 'a+')\n",
    "\n",
    "    # setting variables\n",
    "    columns = csv_data[0]\n",
    "    csv_data = csv_data[1:]\n",
    "    window = 3\n",
    "    prompt_header = data_description + '\\nThe following data is in a csv format: \\n' + columns\n",
    "    print(prompt_header)\n",
    "    \n",
    "    # a jsonl list of [{'prompt':'...', 'completion':'...'}, ...]\n",
    "    datapoint = {\n",
    "        'prompt': prompt_header, \n",
    "        'completion': '\\n'.join(csv_data[:window])\n",
    "    }\n",
    "\n",
    "    output_file.write(str(datapoint))\n",
    "    \n",
    "    # loop over csv and create dataset\n",
    "    curr_row = window\n",
    "    while curr_row + window < max_length and curr_row + window < len(csv_data):\n",
    "        datapoint = {\n",
    "            'prompt': prompt_header + '\\n'.join(csv_data[curr_row - window:curr_row]), \n",
    "            'completion': '\\n'.join(csv_data[curr_row: curr_row + window])\n",
    "        }\n",
    "        output_file.write(str(datapoint))\n",
    "\n",
    "    print('done!')\n",
    "\n",
    "\n",
    "    \n",
    "    \n",
    "\n"
   ]
  },
  {
   "cell_type": "code",
   "execution_count": 11,
   "metadata": {},
   "outputs": [
    {
     "name": "stdout",
     "output_type": "stream",
     "text": [
      "An individual’s annual income results from various factors. Intuitively, it is influenced by the individual’s education level, age, gender, occupation, and etc.\n",
      "The following data is in a csv format: \n",
      "age,workclass,fnlwgt,education,educational-num,marital-status,occupation,relationship,race,gender,capital-gain,capital-loss,hours-per-week,native-country,income\n"
     ]
    }
   ],
   "source": [
    "data_description = \"An individual’s annual income results from various factors. Intuitively, it is influenced by the individual’s education level, age, gender, occupation, and etc.\"\n",
    "csv_filename = '/Users/julianchu/Downloads/adult.csv'\n",
    "output_filename = 'data1.jsonl'\n",
    "\n",
    "gen_data(data_description, csv_filename, output_filename)"
   ]
  },
  {
   "cell_type": "code",
   "execution_count": null,
   "metadata": {},
   "outputs": [],
   "source": []
  }
 ],
 "metadata": {
  "kernelspec": {
   "display_name": "Python 3.9.7 64-bit",
   "language": "python",
   "name": "python3"
  },
  "language_info": {
   "codemirror_mode": {
    "name": "ipython",
    "version": 3
   },
   "file_extension": ".py",
   "mimetype": "text/x-python",
   "name": "python",
   "nbconvert_exporter": "python",
   "pygments_lexer": "ipython3",
   "version": "3.9.7"
  },
  "orig_nbformat": 4,
  "vscode": {
   "interpreter": {
    "hash": "aee8b7b246df8f9039afb4144a1f6fd8d2ca17a180786b69acc140d282b71a49"
   }
  }
 },
 "nbformat": 4,
 "nbformat_minor": 2
}
