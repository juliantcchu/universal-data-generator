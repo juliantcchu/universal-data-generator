{
 "cells": [
  {
   "cell_type": "code",
   "execution_count": 1,
   "metadata": {},
   "outputs": [],
   "source": [
    "\n",
    "import json\n",
    "\n",
    "def gen_data(data_description, csv_filename, output_filename, max_length = 1000):\n",
    "\n",
    "    # getting data files\n",
    "    csv_data = open(csv_filename, 'r').read().split('\\n')\n",
    "    output_file = open(output_filename, 'a+')\n",
    "\n",
    "    # setting variables\n",
    "    columns = csv_data[0]\n",
    "    csv_data = csv_data[1:]\n",
    "    window = 3\n",
    "    prompt_header = data_description + '\\nThe following data is in a csv format. \\n The columns of this dataset includes' + columns + '\\n\\n ------------- \\n' + columns\n",
    "    print(prompt_header)\n",
    "    \n",
    "    # a jsonl list of [{'prompt':'...', 'completion':'...'}, ...]\n",
    "    datapoint = {\n",
    "        'prompt': prompt_header, \n",
    "        'completion': '\\n'.join(csv_data[:window])\n",
    "    }\n",
    "\n",
    "    output_file.write(json.dumps(datapoint) + '\\n')\n",
    "    \n",
    "    # loop over csv and create dataset\n",
    "    curr_row = window\n",
    "    while curr_row + window < max_length and curr_row + window < len(csv_data):\n",
    "        datapoint = {\n",
    "            'prompt': prompt_header + '\\n'.join(csv_data[curr_row - window:curr_row]), \n",
    "            'completion': '\\n'.join(csv_data[curr_row: curr_row + window])\n",
    "        }\n",
    "        # print(curr_row, datapoint)\n",
    "        output_file.write(json.dumps(datapoint) + '\\n')\n",
    "        curr_row += window\n",
    "\n",
    "    print('done!')\n",
    "\n"
   ]
  },
  {
   "cell_type": "code",
   "execution_count": 2,
   "metadata": {},
   "outputs": [
    {
     "name": "stdout",
     "output_type": "stream",
     "text": [
      "A dataset which contain some customers who are withdrawing their account from the bank due to some loss and other issues with the help this data we try to analyse and maintain accuracy.\n",
      "The following data is in a csv format. \n",
      " The columns of this dataset includesRowNumber,CustomerId,Surname,CreditScore,Geography,Gender,Age,Tenure,Balance,NumOfProducts,HasCrCard,IsActiveMember,EstimatedSalary,Exited\n",
      "\n",
      " ------------- \n",
      "RowNumber,CustomerId,Surname,CreditScore,Geography,Gender,Age,Tenure,Balance,NumOfProducts,HasCrCard,IsActiveMember,EstimatedSalary,Exited\n",
      "done!\n"
     ]
    }
   ],
   "source": [
    "data_description = \"A dataset which contain some customers who are withdrawing their account from the bank due to some loss and other issues with the help this data we try to analyse and maintain accuracy.\"\n",
    "csv_filename = \"/Users/julianchu/Downloads/Churn Modeling.csv\"\n",
    "output_filename = \"bankChurnOnly.jsonl\"\n",
    "\n",
    "gen_data(data_description, csv_filename, output_filename, max_length = 100000000 * 3)"
   ]
  },
  {
   "cell_type": "code",
   "execution_count": 38,
   "metadata": {},
   "outputs": [
    {
     "name": "stdout",
     "output_type": "stream",
     "text": [
      "A dataset which contain some customers who are withdrawing their account from the bank due to some loss and other issues with the help this data we try to analyse and maintain accuracy.\n",
      "The following data is in a csv format. \n",
      " The columns of this dataset includesRowNumber,CustomerId,Surname,CreditScore,Geography,Gender,Age,Tenure,Balance,NumOfProducts,HasCrCard,IsActiveMember,EstimatedSalary,Exited\n",
      "\n",
      " ------------- \n",
      "RowNumber,CustomerId,Surname,CreditScore,Geography,Gender,Age,Tenure,Balance,NumOfProducts,HasCrCard,IsActiveMember,EstimatedSalary,Exited\n",
      "done!\n",
      "Predict the housing price based on certain factors like house area, bedrooms, furnished, nearness to mainroad, etc. \n",
      "The following data is in a csv format. \n",
      " The columns of this dataset includesprice,area,bedrooms,bathrooms,stories,mainroad,guestroom,basement,hotwaterheating,airconditioning,parking,prefarea,furnishingstatus\n",
      "\n",
      " ------------- \n",
      "price,area,bedrooms,bathrooms,stories,mainroad,guestroom,basement,hotwaterheating,airconditioning,parking,prefarea,furnishingstatus\n",
      "done!\n",
      "Telcom Customer Churn. Each row represents a customer, each column contains customer’s attributes. \n",
      "The following data is in a csv format. \n",
      " The columns of this dataset includescustomerID,gender,SeniorCitizen,Partner,Dependents,tenure,PhoneService,MultipleLines,InternetService,OnlineSecurity,OnlineBackup,DeviceProtection,TechSupport,StreamingTV,StreamingMovies,Contract,PaperlessBilling,PaymentMethod,MonthlyCharges,TotalCharges,Churn\n",
      "\n",
      " ------------- \n",
      "customerID,gender,SeniorCitizen,Partner,Dependents,tenure,PhoneService,MultipleLines,InternetService,OnlineSecurity,OnlineBackup,DeviceProtection,TechSupport,StreamingTV,StreamingMovies,Contract,PaperlessBilling,PaymentMethod,MonthlyCharges,TotalCharges,Churn\n",
      "done!\n"
     ]
    }
   ],
   "source": [
    "data_description = \"A dataset which contain some customers who are withdrawing their account from the bank due to some loss and other issues with the help this data we try to analyse and maintain accuracy.\"\n",
    "csv_filename = \"/Users/julianchu/Downloads/Churn Modeling.csv\"\n",
    "output_filename = \"bankChurn_housing2_telecomChurn.jsonl\"\n",
    "\n",
    "gen_data(data_description, csv_filename, output_filename, max_length = 100000000 * 3)\n",
    "\n",
    "data_description = \"Predict the housing price based on certain factors like house area, bedrooms, furnished, nearness to mainroad, etc. \"\n",
    "csv_filename = \"/Users/julianchu/Downloads/Housing 2.csv\"\n",
    "output_filename = \"bankChurn_housing2_telecomChurn.jsonl\"\n",
    "\n",
    "gen_data(data_description, csv_filename, output_filename, max_length = 100000000 * 3)\n",
    "data_description = \"Telcom Customer Churn. Each row represents a customer, each column contains customer’s attributes. \"\n",
    "csv_filename = \"/Users/julianchu/Downloads/WA_Fn-UseC_-Telco-Customer-Churn.csv\"\n",
    "output_filename = \"bankChurn_housing2_telecomChurn.jsonl\"\n",
    "\n",
    "gen_data(data_description, csv_filename, output_filename, max_length = 100000000 * 3)\n",
    "\n",
    "f = open('bankChurn_housing2_telecomChurn.jsonl', 'r')\n",
    "file_as_list = f.readlines()\n",
    "f.close()\n",
    "import random\n",
    "random.shuffle(file_as_list)\n",
    "f = open('bankChurn_housing2_telecomChurn.jsonl', 'w')\n",
    "f.write(''.join(file_as_list))\n",
    "f.close()\n",
    "\n",
    "\n"
   ]
  },
  {
   "cell_type": "code",
   "execution_count": 27,
   "metadata": {},
   "outputs": [],
   "source": [
    "f = open('data9.jsonl', 'r')\n",
    "file_as_list = f.readlines()\n",
    "f.close()\n",
    "import random\n",
    "random.shuffle(file_as_list)\n",
    "f = open('data10.jsonl', 'w')\n",
    "f.write(''.join(file_as_list))\n",
    "f.close()"
   ]
  },
  {
   "cell_type": "code",
   "execution_count": null,
   "metadata": {},
   "outputs": [],
   "source": []
  }
 ],
 "metadata": {
  "kernelspec": {
   "display_name": "Python 3.9.7 64-bit",
   "language": "python",
   "name": "python3"
  },
  "language_info": {
   "codemirror_mode": {
    "name": "ipython",
    "version": 3
   },
   "file_extension": ".py",
   "mimetype": "text/x-python",
   "name": "python",
   "nbconvert_exporter": "python",
   "pygments_lexer": "ipython3",
   "version": "3.9.7"
  },
  "orig_nbformat": 4,
  "vscode": {
   "interpreter": {
    "hash": "aee8b7b246df8f9039afb4144a1f6fd8d2ca17a180786b69acc140d282b71a49"
   }
  }
 },
 "nbformat": 4,
 "nbformat_minor": 2
}
