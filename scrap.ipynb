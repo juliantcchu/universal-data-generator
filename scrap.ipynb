{
 "cells": [
  {
   "cell_type": "code",
   "execution_count": 5,
   "metadata": {},
   "outputs": [
    {
     "name": "stdout",
     "output_type": "stream",
     "text": [
      "prompt :\n",
      "A dataset which contain some customers who are withdrawing their account from the bank due to some loss and other issues with the help this data we try to analyse and maintain accuracy.\n",
      "The following data is in a csv format. \n",
      " The columns of this dataset includesRowNumber,CustomerId,Surname,CreditScore,Geography,Gender,Age,Tenure,Balance,NumOfProducts,HasCrCard,IsActiveMember,EstimatedSalary,Exited\n",
      "\n",
      " ------------- \n",
      "RowNumber,CustomerId,Surname,CreditScore,Geography,Gender,Age,Tenure,Balance,NumOfProducts,HasCrCard,IsActiveMember,EstimatedSalary,Exited1,15634602,Hargrave,619,France,Female,42,2,0,1,1,1,101348.88,1\n",
      "2,15647311,Hill,608,Spain,Female,41,1,83807.86,1,0,1,112542.58,0\n",
      "3,15619304,Onio,502,France,Female,42,8,159660.8,3,1,0,113931.57,1 \n",
      "\n",
      "\n",
      "completion :\n",
      "4,15701354,Boni,699,France,Female,39,1,0,2,0,0,93826.63,0\n",
      "5,15737888,Mitchell,850,Spain,Female,43,2,125510.82,1,1,1,79084.1,0\n",
      "6,15574012,Chu,645,Spain,Male,44,8,113755.78,2,1,0,149756.71,1 \n",
      "\n",
      "\n"
     ]
    }
   ],
   "source": [
    "\n",
    "ss = {\"prompt\": \"A dataset which contain some customers who are withdrawing their account from the bank due to some loss and other issues with the help this data we try to analyse and maintain accuracy.\\nThe following data is in a csv format. \\n The columns of this dataset includesRowNumber,CustomerId,Surname,CreditScore,Geography,Gender,Age,Tenure,Balance,NumOfProducts,HasCrCard,IsActiveMember,EstimatedSalary,Exited\\n\\n ------------- \\nRowNumber,CustomerId,Surname,CreditScore,Geography,Gender,Age,Tenure,Balance,NumOfProducts,HasCrCard,IsActiveMember,EstimatedSalary,Exited1,15634602,Hargrave,619,France,Female,42,2,0,1,1,1,101348.88,1\\n2,15647311,Hill,608,Spain,Female,41,1,83807.86,1,0,1,112542.58,0\\n3,15619304,Onio,502,France,Female,42,8,159660.8,3,1,0,113931.57,1\", \"completion\": \"4,15701354,Boni,699,France,Female,39,1,0,2,0,0,93826.63,0\\n5,15737888,Mitchell,850,Spain,Female,43,2,125510.82,1,1,1,79084.1,0\\n6,15574012,Chu,645,Spain,Male,44,8,113755.78,2,1,0,149756.71,1\"}\n",
    "\n",
    "for k in ss.keys():\n",
    "    print(k, ':')\n",
    "    print(ss[k], '\\n\\n')"
   ]
  },
  {
   "cell_type": "code",
   "execution_count": null,
   "metadata": {},
   "outputs": [],
   "source": []
  }
 ],
 "metadata": {
  "kernelspec": {
   "display_name": "Python 3.9.7 64-bit",
   "language": "python",
   "name": "python3"
  },
  "language_info": {
   "codemirror_mode": {
    "name": "ipython",
    "version": 3
   },
   "file_extension": ".py",
   "mimetype": "text/x-python",
   "name": "python",
   "nbconvert_exporter": "python",
   "pygments_lexer": "ipython3",
   "version": "3.9.7"
  },
  "orig_nbformat": 4,
  "vscode": {
   "interpreter": {
    "hash": "aee8b7b246df8f9039afb4144a1f6fd8d2ca17a180786b69acc140d282b71a49"
   }
  }
 },
 "nbformat": 4,
 "nbformat_minor": 2
}
